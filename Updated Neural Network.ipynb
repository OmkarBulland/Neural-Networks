{
 "cells": [
  {
   "cell_type": "code",
   "execution_count": 1,
   "id": "5e0033b7",
   "metadata": {
    "ExecuteTime": {
     "end_time": "2023-02-20T07:18:48.565011Z",
     "start_time": "2023-02-20T07:18:43.274010Z"
    }
   },
   "outputs": [],
   "source": [
    "import numpy as np\n",
    "import tensorflow as tf\n",
    "from sklearn.model_selection import train_test_split\n",
    "from sklearn.preprocessing import StandardScaler\n"
   ]
  },
  {
   "cell_type": "code",
   "execution_count": 2,
   "id": "c5cf72be",
   "metadata": {
    "ExecuteTime": {
     "end_time": "2023-02-20T07:19:09.854627Z",
     "start_time": "2023-02-20T07:19:09.831678Z"
    }
   },
   "outputs": [],
   "source": [
    "# Load the forest fires dataset\n",
    "data = np.loadtxt('forestfires.csv', delimiter=',', skiprows=1, usecols=range(4, 12))\n",
    "target = np.loadtxt('forestfires.csv', delimiter=',', skiprows=1, usecols=[12])"
   ]
  },
  {
   "cell_type": "code",
   "execution_count": 3,
   "id": "9fc3ab1b",
   "metadata": {
    "ExecuteTime": {
     "end_time": "2023-02-20T07:19:39.527431Z",
     "start_time": "2023-02-20T07:19:39.516463Z"
    }
   },
   "outputs": [],
   "source": [
    "# Split the dataset into training and testing sets\n",
    "X_train, X_test, y_train, y_test = train_test_split(data, target, test_size=0.2, random_state=42)\n"
   ]
  },
  {
   "cell_type": "code",
   "execution_count": 4,
   "id": "e1312851",
   "metadata": {
    "ExecuteTime": {
     "end_time": "2023-02-20T07:19:54.938256Z",
     "start_time": "2023-02-20T07:19:54.921299Z"
    }
   },
   "outputs": [],
   "source": [
    "# Preprocess the input data\n",
    "scaler = StandardScaler()\n",
    "X_train = scaler.fit_transform(X_train)\n",
    "X_test = scaler.transform(X_test)"
   ]
  },
  {
   "cell_type": "code",
   "execution_count": 5,
   "id": "a4f0da3e",
   "metadata": {
    "ExecuteTime": {
     "end_time": "2023-02-20T07:20:03.729244Z",
     "start_time": "2023-02-20T07:20:03.638839Z"
    }
   },
   "outputs": [],
   "source": [
    "\n",
    "# Define the neural network architecture\n",
    "model = tf.keras.Sequential([\n",
    "    tf.keras.layers.Dense(64, activation='relu', input_shape=(8,)),\n",
    "    tf.keras.layers.Dense(1)\n",
    "])"
   ]
  },
  {
   "cell_type": "code",
   "execution_count": 6,
   "id": "513039ab",
   "metadata": {
    "ExecuteTime": {
     "end_time": "2023-02-20T07:20:11.167596Z",
     "start_time": "2023-02-20T07:20:11.126679Z"
    }
   },
   "outputs": [],
   "source": [
    "# Compile the model\n",
    "model.compile(optimizer='adam', loss='mse', metrics=['mae'])\n"
   ]
  },
  {
   "cell_type": "code",
   "execution_count": 7,
   "id": "aeae3694",
   "metadata": {
    "ExecuteTime": {
     "end_time": "2023-02-20T07:20:28.483920Z",
     "start_time": "2023-02-20T07:20:20.580333Z"
    }
   },
   "outputs": [],
   "source": [
    "# Train the model\n",
    "history = model.fit(X_train, y_train, epochs=100, validation_split=0.2, verbose=0)"
   ]
  },
  {
   "cell_type": "code",
   "execution_count": 8,
   "id": "f14929a1",
   "metadata": {
    "ExecuteTime": {
     "end_time": "2023-02-20T07:20:41.440519Z",
     "start_time": "2023-02-20T07:20:41.349765Z"
    }
   },
   "outputs": [
    {
     "name": "stdout",
     "output_type": "stream",
     "text": [
      "4/4 [==============================] - 0s 2ms/step - loss: 0.0952 - mae: 0.2167\n"
     ]
    }
   ],
   "source": [
    "# Evaluate the model on the testing set\n",
    "test_loss, test_mae = model.evaluate(X_test, y_test)"
   ]
  },
  {
   "cell_type": "code",
   "execution_count": 9,
   "id": "ba96be65",
   "metadata": {
    "ExecuteTime": {
     "end_time": "2023-02-20T07:20:55.472888Z",
     "start_time": "2023-02-20T07:20:55.279914Z"
    }
   },
   "outputs": [
    {
     "name": "stdout",
     "output_type": "stream",
     "text": [
      "1/1 [==============================] - 0s 129ms/step\n"
     ]
    }
   ],
   "source": [
    "# Use the model to make predictions on new data\n",
    "new_data = np.array([[23.2, 46, 21.2, 94.3, 34.7, 2.2, 0, 9.8]])\n",
    "new_data = scaler.transform(new_data)\n",
    "prediction = model.predict(new_data)"
   ]
  },
  {
   "cell_type": "code",
   "execution_count": 10,
   "id": "82ae529b",
   "metadata": {
    "ExecuteTime": {
     "end_time": "2023-02-20T07:21:04.554505Z",
     "start_time": "2023-02-20T07:21:04.547530Z"
    }
   },
   "outputs": [
    {
     "name": "stdout",
     "output_type": "stream",
     "text": [
      "Test MAE: 0.21673789620399475\n",
      "Prediction: [[-0.06771892]]\n"
     ]
    }
   ],
   "source": [
    "\n",
    "print('Test MAE:', test_mae)\n",
    "print('Prediction:', prediction)"
   ]
  },
  {
   "cell_type": "code",
   "execution_count": null,
   "id": "dfb71f1e",
   "metadata": {},
   "outputs": [],
   "source": []
  }
 ],
 "metadata": {
  "kernelspec": {
   "display_name": "Python 3 (ipykernel)",
   "language": "python",
   "name": "python3"
  },
  "language_info": {
   "codemirror_mode": {
    "name": "ipython",
    "version": 3
   },
   "file_extension": ".py",
   "mimetype": "text/x-python",
   "name": "python",
   "nbconvert_exporter": "python",
   "pygments_lexer": "ipython3",
   "version": "3.9.13"
  }
 },
 "nbformat": 4,
 "nbformat_minor": 5
}
